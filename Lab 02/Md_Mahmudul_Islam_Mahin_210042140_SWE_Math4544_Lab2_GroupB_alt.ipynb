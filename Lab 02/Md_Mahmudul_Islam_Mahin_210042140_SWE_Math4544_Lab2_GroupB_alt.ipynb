{
  "nbformat": 4,
  "nbformat_minor": 0,
  "metadata": {
    "colab": {
      "provenance": []
    },
    "kernelspec": {
      "name": "python3",
      "display_name": "Python 3"
    },
    "language_info": {
      "name": "python"
    }
  },
  "cells": [
    {
      "cell_type": "markdown",
      "metadata": {
        "id": "SChhcgB_Tkv9"
      },
      "source": [
        "# **Lab 2 : Direct method of Interpolation**<br>\n",
        "\n",
        "Interpolation is the process of estimating unknown data that lies within the range of some known data. The simplest interpolation is the **Direct method of Interpolation**. In order to interpolate unknown data, one needs to define a model that would fit the known data and based on that model, one would obtain the unknown data. This model would basically be a function that tries to satisfy the known data points. There can be various types of functions that may satisfy the same given data points, but for interpolation, we usually choose **polynomials** as interpolating functions due to the fact that polynomials are very easy to evaluate, differentiate and integrate.\n",
        "\n",
        "In today's lab, we will be implementing the Direct method of Interpolation in python. To test our implementation, we will be using the same data that we used during our class lectures. Run the following cell to load the known data points:\n"
      ]
    },
    {
      "cell_type": "code",
      "metadata": {
        "id": "rZ4tGQSjTvYF"
      },
      "source": [
        "t = [0, 10, 15, 20, 22.5, 30]\n",
        "v = [0, 227.04, 362.78, 517.35, 602.97, 901.67]"
      ],
      "execution_count": 42,
      "outputs": []
    },
    {
      "cell_type": "markdown",
      "metadata": {
        "id": "3sOLCbqJT7q0"
      },
      "source": [
        "##Task 1\n",
        "Design a utility function that will be called in the `DirectInterpolation` function. The purpose of this function will be to find the $n+1$ closest points to the unknown value $t_{new}$ where we want to interpolate the data, where $n$ is the order of the interpolating polynomial. Understand that the nearest points should be selected such that they bracket the $t_{new}$. The function to be implemented is as follows:"
      ]
    },
    {
      "cell_type": "code",
      "metadata": {
        "id": "f6HGUB7nT9k9"
      },
      "source": [
        "def NearestPoints(t, v, n, t_new):\n",
        "\n",
        "    distances = [(abs(t_i - t_new), i) for i, t_i in enumerate(t)]\n",
        "\n",
        "    distances.sort()\n",
        "\n",
        "    nearest_indices = [i for _, i in distances[:n+1]]\n",
        "\n",
        "    nearest_indices.sort()\n",
        "\n",
        "    t_nearest = [t[i] for i in nearest_indices]\n",
        "    v_nearest = [v[i] for i in nearest_indices]\n",
        "\n",
        "    return t_nearest, v_nearest\n"
      ],
      "execution_count": 8,
      "outputs": []
    },
    {
      "cell_type": "markdown",
      "source": [
        "The above function is supposed to return two vectors, say `t_nearest` and `v_nearest` consisting of $n+1$ elements each. For testing how the function works, we can print the data and see what we are getting. If our implementation is correct, then we should be getting $[15], [362.78]$ for $n=0$. Run the following cell to check this:"
      ],
      "metadata": {
        "id": "w25YRkvd9XEh"
      }
    },
    {
      "cell_type": "code",
      "source": [
        "n = 0\n",
        "t_new = 16\n",
        "\n",
        "t_nearest, v_nearest = NearestPoints(t, v, n, t_new)\n",
        "print(t_nearest)\n",
        "print(v_nearest)"
      ],
      "metadata": {
        "id": "FSo0cJ1TkmRN",
        "collapsed": true,
        "colab": {
          "base_uri": "https://localhost:8080/"
        },
        "outputId": "1bc743d7-0548-42f8-986b-881b2bd7e6c2"
      },
      "execution_count": 9,
      "outputs": [
        {
          "output_type": "stream",
          "name": "stdout",
          "text": [
            "[15]\n",
            "[362.78]\n"
          ]
        }
      ]
    },
    {
      "cell_type": "code",
      "source": [
        "n = 1\n",
        "t_new = 16\n",
        "\n",
        "t_nearest, v_nearest = NearestPoints(t, v, n, t_new)\n",
        "print(t_nearest)\n",
        "print(v_nearest)"
      ],
      "metadata": {
        "id": "z5SN6pQj9Z7Q"
      },
      "execution_count": null,
      "outputs": []
    },
    {
      "cell_type": "markdown",
      "source": [
        "The output for $n=1$ should be $[15, 20], [362.78, 517.35]$"
      ],
      "metadata": {
        "id": "JdaIx97ljwYk"
      }
    },
    {
      "cell_type": "code",
      "source": [
        "n = 2\n",
        "t_new = 16\n",
        "\n",
        "t_nearest, v_nearest = NearestPoints(t, v, n, t_new)\n",
        "print(t_nearest)\n",
        "print(v_nearest)"
      ],
      "metadata": {
        "id": "hOb4TMsTkBjs",
        "colab": {
          "base_uri": "https://localhost:8080/"
        },
        "outputId": "215687d6-c7cf-4e7f-e773-0286688a02d4"
      },
      "execution_count": 10,
      "outputs": [
        {
          "output_type": "stream",
          "name": "stdout",
          "text": [
            "[10, 15, 20]\n",
            "[227.04, 362.78, 517.35]\n"
          ]
        }
      ]
    },
    {
      "cell_type": "markdown",
      "source": [
        "The output for $n=2$ should be $[15, 20, 10], [362.78, 517.35, 227.04]$"
      ],
      "metadata": {
        "id": "KzFR4QO8kFRn"
      }
    },
    {
      "cell_type": "markdown",
      "metadata": {
        "id": "Z6sc0ZNUUGNk"
      },
      "source": [
        "## Task 2\n",
        "Now your task is to design a generalized function that takes the given data as parameters as well as the order $n$ of the polynomial and uses the *Direct Interpolation* method to interpolate the unknown data at $t_{new}$. The following cell contains the function to be implemented:"
      ]
    },
    {
      "cell_type": "code",
      "metadata": {
        "id": "zHadfasm8dUF"
      },
      "source": [
        "import numpy as np\n",
        "\n",
        "def DirectInterpolation(t, v, n, t_new):\n",
        "\n",
        "    t_nearest, v_nearest = NearestPoints(t, v, n, t_new)\n",
        "\n",
        "    V = np.vander(t_nearest, increasing=True)\n",
        "\n",
        "    coeffs = np.linalg.solve(V, v_nearest)\n",
        "\n",
        "    def polynomial(t_eval):\n",
        "        return sum(coeff * (t_eval ** i) for i, coeff in enumerate(coeffs))\n",
        "\n",
        "    return polynomial\n",
        "\n",
        "def eval(f, t_new):\n",
        "\n",
        "    return f(t_new)\n"
      ],
      "execution_count": 11,
      "outputs": []
    },
    {
      "cell_type": "markdown",
      "metadata": {
        "id": "t1yWM5V18cA2"
      },
      "source": [
        "Note that the above function will at first need to find a number of closest points to the unknown data $t_{new}$, and this number will vary depending on the order $n$ of the polynomial that we want to use as the interpolating function. So you will have to call the function you implemented in Task 1 inside this function."
      ]
    },
    {
      "cell_type": "code",
      "source": [
        "print(eval(DirectInterpolation(t, v, 1, 16),16))"
      ],
      "metadata": {
        "id": "91g2Q0pTm0Ds",
        "colab": {
          "base_uri": "https://localhost:8080/"
        },
        "outputId": "bb4d0026-9b14-4760-a6d1-6f9a358ce408"
      },
      "execution_count": 12,
      "outputs": [
        {
          "output_type": "stream",
          "name": "stdout",
          "text": [
            "393.69399999999996\n"
          ]
        }
      ]
    },
    {
      "cell_type": "markdown",
      "source": [
        "For $n=1$, we should get $v(16) = 393.7ms^{-1}$."
      ],
      "metadata": {
        "id": "kb6DPOAmnIq7"
      }
    },
    {
      "cell_type": "code",
      "source": [
        "print(eval(DirectInterpolation(t, v, 2, 16),16))"
      ],
      "metadata": {
        "id": "dqVSikEhnERc",
        "colab": {
          "base_uri": "https://localhost:8080/"
        },
        "outputId": "cca6dc21-e05c-4ede-8261-9b70cb683225"
      },
      "execution_count": 13,
      "outputs": [
        {
          "output_type": "stream",
          "name": "stdout",
          "text": [
            "392.1876\n"
          ]
        }
      ]
    },
    {
      "cell_type": "markdown",
      "source": [
        "For $n=2$, we should get $v(16) = 392.19ms^{-1}$."
      ],
      "metadata": {
        "id": "4eCg93mknX20"
      }
    },
    {
      "cell_type": "code",
      "source": [
        "print(eval(DirectInterpolation(t, v, 3, 16),16))"
      ],
      "metadata": {
        "id": "eabSBX2WnEsS",
        "colab": {
          "base_uri": "https://localhost:8080/"
        },
        "outputId": "1baabb10-741c-485d-a3a2-27db1c56fa9e"
      },
      "execution_count": 14,
      "outputs": [
        {
          "output_type": "stream",
          "name": "stdout",
          "text": [
            "392.057168\n"
          ]
        }
      ]
    },
    {
      "cell_type": "markdown",
      "source": [
        "For $n=3$, we should get $v(16) = 392.06ms^{-1}$."
      ],
      "metadata": {
        "id": "GvFpwbNmnez_"
      }
    },
    {
      "cell_type": "markdown",
      "metadata": {
        "id": "rcyU1bzM9u3g"
      },
      "source": [
        "##Task 3\n",
        "Now, test the function using different order of polynomials, setting $n = 1, 2,$ and $3$ and so on and print the absolute relative approximate error at each step. Also generate a plot of Order $(n)$ vs Relative Approximate Error $(|\\epsilon_a|\\%)$. In case you do not remember how graphs can be plotted in Python, here is a sample code showing how to do it using the `matplotlib` library."
      ]
    },
    {
      "cell_type": "code",
      "metadata": {
        "id": "HcPhTbIu_sn4",
        "colab": {
          "base_uri": "https://localhost:8080/",
          "height": 472
        },
        "outputId": "86e57bfa-b2a3-4816-fba5-05861e2a346a"
      },
      "source": [
        "import numpy as np\n",
        "import matplotlib.pyplot as plt\n",
        "\n",
        "iters = np.arange(0, 5) #start=0, stop=5, and since no step is given, so default step=1\n",
        "vals = np.arange(100, 200, 20) #start=100, stop=200, step=20\n",
        "\n",
        "plt.plot(iters, vals)\n",
        "plt.title(\"Iterations vs values plot\")\n",
        "plt.xlabel(\"Iteration\")\n",
        "plt.ylabel(\"Value\")\n",
        "plt.show()"
      ],
      "execution_count": null,
      "outputs": [
        {
          "output_type": "display_data",
          "data": {
            "text/plain": [
              "<Figure size 640x480 with 1 Axes>"
            ],
            "image/png": "[encoded data removed]"
          },
          "metadata": {}
        }
      ]
    },
    {
      "cell_type": "code",
      "source": [
        "import numpy as np\n",
        "import matplotlib.pyplot as plt\n",
        "\n",
        "\n",
        "t = [10, 15, 20, 25, 30]\n",
        "v = [227.04, 362.78, 517.35, 692.20, 820.45]\n",
        "\n",
        "true_value_at_16 = 393.7\n",
        "\n",
        "errors = []\n",
        "\n",
        "for n in range(1, 4):\n",
        "    t_new = 16\n",
        "    interpolated_value = eval(DirectInterpolation(t, v, n, t_new), t_new)\n",
        "\n",
        "\n",
        "    relative_error = abs((interpolated_value - true_value_at_16) / interpolated_value) * 100\n",
        "    errors.append(relative_error)\n",
        "    print(f\"Order n={n}: Interpolated Value = {interpolated_value}, Relative Approximate Error = {relative_error:.4f}%\")\n",
        "\n",
        "plt.figure(figsize=(8, 5))\n",
        "plt.plot(range(1, 4), errors, marker='o')\n",
        "plt.title(\"Order (n) vs Relative Approximate Error (|εa|%)\")\n",
        "plt.xlabel(\"Order of Polynomial (n)\")\n",
        "plt.ylabel(\"Relative Approximate Error (|εa|%)\")\n",
        "plt.xticks(range(1, 4))\n",
        "plt.grid()\n",
        "plt.show()\n"
      ],
      "metadata": {
        "id": "YDxTWEDA_PzH",
        "colab": {
          "base_uri": "https://localhost:8080/",
          "height": 539
        },
        "outputId": "a5fa0628-dec2-4d45-b336-5284b9061d01"
      },
      "execution_count": 41,
      "outputs": [
        {
          "output_type": "stream",
          "name": "stdout",
          "text": [
            "Order n=1: Interpolated Value = 393.69399999999996, Relative Approximate Error = 0.0015%\n",
            "Order n=2: Interpolated Value = 392.1876, Relative Approximate Error = 0.3856%\n",
            "Order n=3: Interpolated Value = 392.1412, Relative Approximate Error = 0.3975%\n"
          ]
        },
        {
          "output_type": "display_data",
          "data": {
            "text/plain": [
              "<Figure size 800x500 with 1 Axes>"
            ],
            "image/png": "[encoded data removed]"
          },
          "metadata": {}
        }
      ]
    },
    {
      "cell_type": "markdown",
      "source": [
        "##Task 4\n",
        "Now, write a function for evaluating the acceleration at $t = 16$"
      ],
      "metadata": {
        "id": "TQaze05x-0B6"
      }
    },
    {
      "cell_type": "code",
      "source": [
        "import numpy as np\n",
        "\n",
        "# Sample time (t) and velocity (v) data\n",
        "t = np.array([10, 15, 20, 25])  # Time data\n",
        "v = np.array([227.04, 362.78, 517.35, 680.42])  # Velocity data\n",
        "\n",
        "# Function to calculate acceleration at a specific time t_new\n",
        "def acceleration(t, v, t_new):\n",
        "    # Fit a polynomial of degree 2 (quadratic) since we have four data points\n",
        "    degree = 2  # Adjust the degree as necessary; polynomial of degree 2 works well here\n",
        "    coeffs = np.polyfit(t, v, deg=degree)  # Fit polynomial to velocity data\n",
        "\n",
        "    # Get the first derivative coefficients (velocity)\n",
        "    first_deriv_coeffs = np.polyder(coeffs)  # First derivative coefficients\n",
        "\n",
        "    # Get the second derivative coefficients (acceleration)\n",
        "    second_deriv_coeffs = np.polyder(first_deriv_coeffs)  # Second derivative coefficients\n",
        "\n",
        "    # Evaluate the second derivative (acceleration) at t_new\n",
        "    acceleration_at_t_new = np.polyval(second_deriv_coeffs, t_new)  # Evaluate at t_new\n",
        "\n",
        "    return acceleration_at_t_new\n",
        "\n",
        "# Calculate acceleration at t = 16\n",
        "acceleration_at_16 = acceleration(t, v, 16)\n",
        "print(f\"Acceleration at t=16: {acceleration_at_16:.2f} m/s²\")\n",
        "\n",
        "\n",
        "\n",
        "\n",
        "\n",
        "\n",
        "\n"
      ],
      "metadata": {
        "id": "M3Vhtwnu-99O",
        "colab": {
          "base_uri": "https://localhost:8080/"
        },
        "outputId": "a8f1475e-38e9-4066-f827-8cd0d3835141"
      },
      "execution_count": 38,
      "outputs": [
        {
          "output_type": "stream",
          "name": "stdout",
          "text": [
            "Acceleration at t=16: 0.55 m/s²\n"
          ]
        }
      ]
    }
  ]
}